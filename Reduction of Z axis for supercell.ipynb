{
  "nbformat": 4,
  "nbformat_minor": 0,
  "metadata": {
    "colab": {
      "provenance": [],
      "authorship_tag": "ABX9TyN3p6FUEep3920nivrQdDvZ",
      "include_colab_link": true
    },
    "kernelspec": {
      "name": "python3",
      "display_name": "Python 3"
    },
    "language_info": {
      "name": "python"
    }
  },
  "cells": [
    {
      "cell_type": "markdown",
      "metadata": {
        "id": "view-in-github",
        "colab_type": "text"
      },
      "source": [
        "<a href=\"https://colab.research.google.com/github/alvaroguerrero1/alvaro/blob/master/Reduction%20of%20Z%20axis%20for%20supercell.ipynb\" target=\"_parent\"><img src=\"https://colab.research.google.com/assets/colab-badge.svg\" alt=\"Open In Colab\"/></a>"
      ]
    },
    {
      "cell_type": "code",
      "execution_count": 1,
      "metadata": {
        "colab": {
          "base_uri": "https://localhost:8080/"
        },
        "id": "1by0K2TLndKM",
        "outputId": "99bb3fc6-636e-48e8-bff8-ca9617a4ca6b"
      },
      "outputs": [
        {
          "output_type": "stream",
          "name": "stdout",
          "text": [
            "Values in the third column after 'cartesian' have been reduced by 10.\n"
          ]
        }
      ],
      "source": [
        "# Define the file path\n",
        "file_path = 'on S.vasp'\n",
        "\n",
        "# Read the file and store the lines\n",
        "with open(file_path, 'r') as file:\n",
        "    lines = file.readlines()\n",
        "\n",
        "# Find the index of the row that contains 'cartesian'\n",
        "cartesian_index = None\n",
        "for i, line in enumerate(lines):\n",
        "    if 'cartesian' in line.lower():\n",
        "        cartesian_index = i\n",
        "        break\n",
        "\n",
        "# If 'cartesian' is found, modify the values in the third column after that row\n",
        "if cartesian_index is not None:\n",
        "    for i in range(cartesian_index + 1, len(lines)):\n",
        "        parts = lines[i].split()\n",
        "        if len(parts) >= 3:  # Ensure there are at least 3 columns\n",
        "            try:\n",
        "                # Subtract 10 from the value in the third column\n",
        "                value = float(parts[2]) - 18\n",
        "                parts[2] = str(value)\n",
        "                # Update the line with modified values\n",
        "                lines[i] = ' '.join(parts) + '\\n'\n",
        "            except ValueError:\n",
        "                # Skip lines that cannot be converted to float (e.g., headers)\n",
        "                pass\n",
        "\n",
        "    # Write the modified content back to the file\n",
        "    with open(file_path, 'w') as file:\n",
        "        file.writelines(lines)\n",
        "    print(\"Values in the third column after 'cartesian' have been reduced by 10.\")\n",
        "else:\n",
        "    print(\"'cartesian' not found in the file.\")\n"
      ]
    },
    {
      "cell_type": "code",
      "source": [],
      "metadata": {
        "id": "LBNb4HaXoT-3"
      },
      "execution_count": null,
      "outputs": []
    }
  ]
}